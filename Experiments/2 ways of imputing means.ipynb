{
 "metadata": {
  "language_info": {
   "codemirror_mode": {
    "name": "ipython",
    "version": 3
   },
   "file_extension": ".py",
   "mimetype": "text/x-python",
   "name": "python",
   "nbconvert_exporter": "python",
   "pygments_lexer": "ipython3",
   "version": "3.9.5"
  },
  "orig_nbformat": 2,
  "kernelspec": {
   "name": "python395jvsc74a57bd0903dd6f50d3491abd608380cd52da5787df6c90acb6e16f191b97b068c975b91",
   "display_name": "Python 3.9.5  ('venv': venv)"
  }
 },
 "nbformat": 4,
 "nbformat_minor": 2,
 "cells": [
  {
   "source": [
    "In this experiment I will be testing two ways of filling in values with means in a dataframe to see if they give the same result.\n",
    "\n",
    "First let's import our dataframe which can be found [here](https://www.kaggle.com/stackoverflow/so-survey-2017)\n",
    "\n",
    "I have noticed that if a column is completly full of NaNs, this will throw off the DataFrame.equals() function and it will say two DataFrames are not identical even though they are. So I am dropping collumns with no data in them."
   ],
   "cell_type": "markdown",
   "metadata": {}
  },
  {
   "cell_type": "code",
   "execution_count": 1,
   "metadata": {},
   "outputs": [],
   "source": [
    "import pandas as pd\n",
    "\n",
    "df = pd.read_csv('C:/Users/Cristian/AppData/Local/Programs/Python/Data science learning/Udacity/survey_results_public.csv')\n",
    "\n",
    "df = df.dropna(subset=['Salary'], axis = 0).drop(['Respondent','ExpectedSalary','Salary'], axis = 1).dropna(how = 'all', axis = 1)"
   ]
  },
  {
   "source": [
    "METHOD 1. Remember to copy the dataframe because some functions just change the dataframe without copying the data so you will lose your original dataframe. This can bugger up your sufle if you use that original one further down in the code."
   ],
   "cell_type": "markdown",
   "metadata": {}
  },
  {
   "cell_type": "code",
   "execution_count": 2,
   "metadata": {},
   "outputs": [],
   "source": [
    "df1 = df.copy()\n",
    "df1 = df1.fillna(df1.mean())"
   ]
  },
  {
   "source": [
    "METHOD 2."
   ],
   "cell_type": "markdown",
   "metadata": {}
  },
  {
   "cell_type": "code",
   "execution_count": 3,
   "metadata": {},
   "outputs": [],
   "source": [
    "df2 = df.copy()\n",
    "num_vars = df2.select_dtypes(include = ['float']).columns\n",
    "for col in num_vars:\n",
    "    df2[col] = df2[col].fillna(df2[col].mean())"
   ]
  },
  {
   "source": [
    "Time to check if they are the same"
   ],
   "cell_type": "markdown",
   "metadata": {}
  },
  {
   "cell_type": "code",
   "execution_count": 7,
   "metadata": {},
   "outputs": [
    {
     "output_type": "stream",
     "name": "stdout",
     "text": [
      "True\n"
     ]
    }
   ],
   "source": [
    "print(df1.equals(df2))"
   ]
  },
  {
   "source": [
    "Looks like they are the same."
   ],
   "cell_type": "markdown",
   "metadata": {}
  }
 ]
}