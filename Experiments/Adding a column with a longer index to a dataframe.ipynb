{
 "metadata": {
  "language_info": {
   "codemirror_mode": {
    "name": "ipython",
    "version": 3
   },
   "file_extension": ".py",
   "mimetype": "text/x-python",
   "name": "python",
   "nbconvert_exporter": "python",
   "pygments_lexer": "ipython3",
   "version": 3
  },
  "orig_nbformat": 2
 },
 "nbformat": 4,
 "nbformat_minor": 2,
 "cells": [
  {
   "source": [
    "The normal way of DataFrame\\[column] = Series falls over if the series has a longer index than the dataframe. To get around this you do the below"
   ],
   "cell_type": "markdown",
   "metadata": {}
  },
  {
   "cell_type": "code",
   "execution_count": null,
   "metadata": {},
   "outputs": [],
   "source": [
    "import pandas as pd\n",
    "\n",
    "a =  [['Column 1','Column 2','Column 3'] , [[1,2] , [3,4] , [5,6,7,8]]]\n",
    "a_dataframe = pd.DataFrame()\n",
    "for i in range(len(a[0])):\n",
    "    a_dataframe = pd.concat([a_dataframe,pd.Series(a[1][i])], ignore_index=True, axis=1)\n",
    "    \n",
    "print(a_dataframe)"
   ]
  }
 ]
}