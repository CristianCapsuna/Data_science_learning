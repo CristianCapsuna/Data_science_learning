{
 "cells": [
  {
   "cell_type": "markdown",
   "metadata": {},
   "source": [
    "The normal way of DataFrame\\[column] = Series falls over if the series has a longer index than the dataframe. To get around this you do the below"
   ]
  },
  {
   "cell_type": "code",
   "execution_count": 1,
   "metadata": {},
   "outputs": [
    {
     "name": "stdout",
     "output_type": "stream",
     "text": [
      "     0    1  2\n",
      "0  1.0  3.0  5\n",
      "1  2.0  4.0  6\n",
      "2  NaN  NaN  7\n",
      "3  NaN  NaN  8\n"
     ]
    }
   ],
   "source": [
    "import pandas as pd\n",
    "\n",
    "a =  [['Column 1','Column 2','Column 3'] , [[1,2] , [3,4] , [5,6,7,8]]]\n",
    "a_dataframe = pd.DataFrame()\n",
    "for i in range(len(a[0])):\n",
    "    a_dataframe = pd.concat([a_dataframe,pd.Series(a[1][i])], ignore_index=True, axis=1)\n",
    "    \n",
    "print(a_dataframe)"
   ]
  }
 ],
 "metadata": {
  "interpreter": {
   "hash": "d3bfba98dd1f54fa080cba39be093213558328b3ddf2237c41b1f6600bbb2e08"
  },
  "kernelspec": {
   "display_name": "Python 3.9.5 64-bit ('venv': venv)",
   "name": "python3"
  },
  "language_info": {
   "codemirror_mode": {
    "name": "ipython",
    "version": 3
   },
   "file_extension": ".py",
   "mimetype": "text/x-python",
   "name": "python",
   "nbconvert_exporter": "python",
   "pygments_lexer": "ipython3",
   "version": "3.9.6"
  },
  "orig_nbformat": 2
 },
 "nbformat": 4,
 "nbformat_minor": 2
}