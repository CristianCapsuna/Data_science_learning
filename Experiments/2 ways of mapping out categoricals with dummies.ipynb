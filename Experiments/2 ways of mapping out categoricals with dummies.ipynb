{
 "metadata": {
  "language_info": {
   "codemirror_mode": {
    "name": "ipython",
    "version": 3
   },
   "file_extension": ".py",
   "mimetype": "text/x-python",
   "name": "python",
   "nbconvert_exporter": "python",
   "pygments_lexer": "ipython3",
   "version": "3.9.5"
  },
  "orig_nbformat": 2,
  "kernelspec": {
   "name": "python395jvsc74a57bd0903dd6f50d3491abd608380cd52da5787df6c90acb6e16f191b97b068c975b91",
   "display_name": "Python 3.9.5  ('venv': venv)"
  }
 },
 "nbformat": 4,
 "nbformat_minor": 2,
 "cells": [
  {
   "source": [
    "In this experiment I will be testing two ways of mapping out categorical value columns with dummies produce the same result.\n",
    "\n",
    "First let's import our dataframe which can be found [here](https://www.kaggle.com/stackoverflow/so-survey-2017)"
   ],
   "cell_type": "markdown",
   "metadata": {}
  },
  {
   "cell_type": "code",
   "execution_count": 1,
   "metadata": {},
   "outputs": [],
   "source": [
    "import pandas as pd\n",
    "import numpy as np\n",
    "import matplotlib.pyplot as plt\n",
    "from sklearn.linear_model import LinearRegression\n",
    "from sklearn.model_selection import train_test_split\n",
    "from sklearn.metrics import r2_score, mean_squared_error\n",
    "import seaborn as sns\n",
    "\n",
    "df = pd.read_csv('C:/Users/Cristian/AppData/Local/Programs/Python/Data science learning/Udacity/survey_results_public.csv')\n",
    "\n",
    "df = df.dropna(subset=['Salary'], axis = 0).drop(['Respondent','ExpectedSalary','Salary'], axis = 1)"
   ]
  },
  {
   "source": [
    "METHOD 1. Remember to copy the dataframe because some functions just change the dataframe without copying the data so you will lose your original dataframe. This can bugger up your sufle if you use that original one further down in the code."
   ],
   "cell_type": "markdown",
   "metadata": {}
  },
  {
   "cell_type": "code",
   "execution_count": 2,
   "metadata": {},
   "outputs": [],
   "source": [
    "df1 = df.copy()\n",
    "df1 = pd.get_dummies(df1, drop_first = True, dummy_na = False)"
   ]
  },
  {
   "source": [
    "METHOD 2."
   ],
   "cell_type": "markdown",
   "metadata": {}
  },
  {
   "cell_type": "code",
   "execution_count": 3,
   "metadata": {},
   "outputs": [],
   "source": [
    "df2 = df.copy()\n",
    "cat_cols = df2.select_dtypes(include = ['object']).columns\n",
    "for col in cat_cols:\n",
    "        temp = pd.get_dummies(df2[col], prefix = col, drop_first=True, dummy_na = False)\n",
    "        df2 = df2.drop([col], axis = 1)\n",
    "        df2 = pd.concat([df2,temp], axis = 1)"
   ]
  },
  {
   "source": [
    "Time to see if they are equal"
   ],
   "cell_type": "markdown",
   "metadata": {}
  },
  {
   "cell_type": "code",
   "execution_count": 4,
   "metadata": {},
   "outputs": [
    {
     "output_type": "stream",
     "name": "stdout",
     "text": [
      "True\n"
     ]
    }
   ],
   "source": [
    "print(df1.equals(df2))"
   ]
  },
  {
   "source": [
    "They are but METHOD 1 IS FASTER."
   ],
   "cell_type": "markdown",
   "metadata": {}
  }
 ]
}